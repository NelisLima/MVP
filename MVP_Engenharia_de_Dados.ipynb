{
 "cells": [
  {
   "cell_type": "markdown",
   "metadata": {
    "application/vnd.databricks.v1+cell": {
     "cellMetadata": {
      "byteLimit": 2048000,
      "rowLimit": 10000
     },
     "inputWidgets": {},
     "nuid": "13f7b230-d3e8-4c31-b7e8-504cb62910dd",
     "showTitle": false,
     "title": ""
    }
   },
   "source": [
    "MVP Engenharia de Dados"
   ]
  },
  {
   "cell_type": "code",
   "execution_count": 0,
   "metadata": {
    "application/vnd.databricks.v1+cell": {
     "cellMetadata": {
      "byteLimit": 2048000,
      "rowLimit": 10000
     },
     "inputWidgets": {},
     "nuid": "9977e23d-fbf5-4a1d-8b1a-f12ee2122f3a",
     "showTitle": false,
     "title": ""
    }
   },
   "outputs": [
    {
     "output_type": "stream",
     "name": "stdout",
     "output_type": "stream",
     "text": [
      "Out[56]: '\\nObjetivo: Analisar filmes contidos nos dados do IMDB\\nPerguntas a serem respondidas:\\n    1 - Quantidade de filmes ano a ano a partir de 2015, e sua evolução anual em percentual.\\n    2 - Qual gênero teve maior quantidade em 2023?\\n    3 - Em relação a 2022, esse gênero aumentou a quantidade de filmes ou diminuiu? Resultado em quantidade e percentual.\\n    \\n'"
     ]
    }
   ],
   "source": [
    "'''\n",
    "Objetivo: Analisar títulos contidos nos dados do IMDB\n",
    "Perguntas a serem respondidas:\n",
    "    1 - Quantidade de títulos ano a ano a partir de 2015, e sua evolução anual em percentual.\n",
    "    2 - Qual gênero teve maior quantidade em 2023?\n",
    "    3 - Em relação a 2022, esse gênero aumentou a quantidade de títulos ou diminuiu? Resultado em quantidade e percentual.\n",
    "\n",
    "'''"
   ]
  },
  {
   "cell_type": "code",
   "execution_count": 0,
   "metadata": {
    "application/vnd.databricks.v1+cell": {
     "cellMetadata": {
      "byteLimit": 2048000,
      "rowLimit": 10000
     },
     "inputWidgets": {},
     "nuid": "fddfffbc-dd9f-4145-96cc-55f1c2d275fa",
     "showTitle": false,
     "title": ""
    }
   },
   "outputs": [],
   "source": [
    "# Importando biliotecas necessárias\n",
    "\n",
    "from io import BytesIO\n",
    "import requests\n",
    "import pandas as pd\n",
    "import matplotlib.pyplot as plt"
   ]
  },
  {
   "cell_type": "code",
   "execution_count": 0,
   "metadata": {
    "application/vnd.databricks.v1+cell": {
     "cellMetadata": {
      "byteLimit": 2048000,
      "rowLimit": 10000
     },
     "inputWidgets": {},
     "nuid": "e12322eb-d822-4762-b516-010bfcffc009",
     "showTitle": false,
     "title": ""
    }
   },
   "outputs": [
    {
     "output_type": "display_data",
     "data": {
      "text/html": [
       "<div>\n",
       "<style scoped>\n",
       "    .dataframe tbody tr th:only-of-type {\n",
       "        vertical-align: middle;\n",
       "    }\n",
       "\n",
       "    .dataframe tbody tr th {\n",
       "        vertical-align: top;\n",
       "    }\n",
       "\n",
       "    .dataframe thead th {\n",
       "        text-align: right;\n",
       "    }\n",
       "</style>\n",
       "<table border=\"1\" class=\"dataframe\">\n",
       "  <thead>\n",
       "    <tr style=\"text-align: right;\">\n",
       "      <th></th>\n",
       "      <th>tconst</th>\n",
       "      <th>titleType</th>\n",
       "      <th>primaryTitle</th>\n",
       "      <th>originalTitle</th>\n",
       "      <th>isAdult</th>\n",
       "      <th>startYear</th>\n",
       "      <th>endYear</th>\n",
       "      <th>runtimeMinutes</th>\n",
       "      <th>genres</th>\n",
       "    </tr>\n",
       "  </thead>\n",
       "  <tbody>\n",
       "    <tr>\n",
       "      <th>0</th>\n",
       "      <td>tt0000001</td>\n",
       "      <td>short</td>\n",
       "      <td>Carmencita</td>\n",
       "      <td>Carmencita</td>\n",
       "      <td>0</td>\n",
       "      <td>1894</td>\n",
       "      <td>\\N</td>\n",
       "      <td>1</td>\n",
       "      <td>Documentary,Short</td>\n",
       "    </tr>\n",
       "    <tr>\n",
       "      <th>1</th>\n",
       "      <td>tt0000002</td>\n",
       "      <td>short</td>\n",
       "      <td>Le clown et ses chiens</td>\n",
       "      <td>Le clown et ses chiens</td>\n",
       "      <td>0</td>\n",
       "      <td>1892</td>\n",
       "      <td>\\N</td>\n",
       "      <td>5</td>\n",
       "      <td>Animation,Short</td>\n",
       "    </tr>\n",
       "    <tr>\n",
       "      <th>2</th>\n",
       "      <td>tt0000003</td>\n",
       "      <td>short</td>\n",
       "      <td>Pauvre Pierrot</td>\n",
       "      <td>Pauvre Pierrot</td>\n",
       "      <td>0</td>\n",
       "      <td>1892</td>\n",
       "      <td>\\N</td>\n",
       "      <td>5</td>\n",
       "      <td>Animation,Comedy,Romance</td>\n",
       "    </tr>\n",
       "    <tr>\n",
       "      <th>3</th>\n",
       "      <td>tt0000004</td>\n",
       "      <td>short</td>\n",
       "      <td>Un bon bock</td>\n",
       "      <td>Un bon bock</td>\n",
       "      <td>0</td>\n",
       "      <td>1892</td>\n",
       "      <td>\\N</td>\n",
       "      <td>12</td>\n",
       "      <td>Animation,Short</td>\n",
       "    </tr>\n",
       "    <tr>\n",
       "      <th>4</th>\n",
       "      <td>tt0000005</td>\n",
       "      <td>short</td>\n",
       "      <td>Blacksmith Scene</td>\n",
       "      <td>Blacksmith Scene</td>\n",
       "      <td>0</td>\n",
       "      <td>1893</td>\n",
       "      <td>\\N</td>\n",
       "      <td>1</td>\n",
       "      <td>Comedy,Short</td>\n",
       "    </tr>\n",
       "  </tbody>\n",
       "</table>\n",
       "</div>"
      ]
     },
     "metadata": {
      "application/vnd.databricks.v1+output": {
       "addedWidgets": {},
       "arguments": {},
       "data": "<div>\n<style scoped>\n    .dataframe tbody tr th:only-of-type {\n        vertical-align: middle;\n    }\n\n    .dataframe tbody tr th {\n        vertical-align: top;\n    }\n\n    .dataframe thead th {\n        text-align: right;\n    }\n</style>\n<table border=\"1\" class=\"dataframe\">\n  <thead>\n    <tr style=\"text-align: right;\">\n      <th></th>\n      <th>tconst</th>\n      <th>titleType</th>\n      <th>primaryTitle</th>\n      <th>originalTitle</th>\n      <th>isAdult</th>\n      <th>startYear</th>\n      <th>endYear</th>\n      <th>runtimeMinutes</th>\n      <th>genres</th>\n    </tr>\n  </thead>\n  <tbody>\n    <tr>\n      <th>0</th>\n      <td>tt0000001</td>\n      <td>short</td>\n      <td>Carmencita</td>\n      <td>Carmencita</td>\n      <td>0</td>\n      <td>1894</td>\n      <td>\\N</td>\n      <td>1</td>\n      <td>Documentary,Short</td>\n    </tr>\n    <tr>\n      <th>1</th>\n      <td>tt0000002</td>\n      <td>short</td>\n      <td>Le clown et ses chiens</td>\n      <td>Le clown et ses chiens</td>\n      <td>0</td>\n      <td>1892</td>\n      <td>\\N</td>\n      <td>5</td>\n      <td>Animation,Short</td>\n    </tr>\n    <tr>\n      <th>2</th>\n      <td>tt0000003</td>\n      <td>short</td>\n      <td>Pauvre Pierrot</td>\n      <td>Pauvre Pierrot</td>\n      <td>0</td>\n      <td>1892</td>\n      <td>\\N</td>\n      <td>5</td>\n      <td>Animation,Comedy,Romance</td>\n    </tr>\n    <tr>\n      <th>3</th>\n      <td>tt0000004</td>\n      <td>short</td>\n      <td>Un bon bock</td>\n      <td>Un bon bock</td>\n      <td>0</td>\n      <td>1892</td>\n      <td>\\N</td>\n      <td>12</td>\n      <td>Animation,Short</td>\n    </tr>\n    <tr>\n      <th>4</th>\n      <td>tt0000005</td>\n      <td>short</td>\n      <td>Blacksmith Scene</td>\n      <td>Blacksmith Scene</td>\n      <td>0</td>\n      <td>1893</td>\n      <td>\\N</td>\n      <td>1</td>\n      <td>Comedy,Short</td>\n    </tr>\n  </tbody>\n</table>\n</div>",
       "datasetInfos": [],
       "metadata": {},
       "removedWidgets": [],
       "textData": null,
       "type": "htmlSandbox"
      }
     },
     "output_type": "display_data"
    }
   ],
   "source": [
    "# Criando títulos da tabela e importando do site\n",
    "\n",
    "import requests\n",
    "import pandas as pd\n",
    "from io import BytesIO\n",
    "\n",
    "df_link = requests.get('https://datasets.imdbws.com/title.basics.tsv.gz')\n",
    "df_original = pd.read_csv(BytesIO(df_link.content), compression='gzip', header=0, sep='\\t',\n",
    "                 dtype={'tconst': str,\n",
    "                        'titletype': str,\n",
    "                        'primaryTitle': str,\n",
    "                        'originalTitle': str,\n",
    "                        'isAdult': str,\n",
    "                        'startYear': str,\n",
    "                        'endYear': str,\n",
    "                        'runtimeMinutes': str,\n",
    "                        'genres': str})\n",
    "\n",
    "df_original.head(5)"
   ]
  },
  {
   "cell_type": "code",
   "execution_count": 0,
   "metadata": {
    "application/vnd.databricks.v1+cell": {
     "cellMetadata": {
      "byteLimit": 2048000,
      "rowLimit": 10000
     },
     "inputWidgets": {},
     "nuid": "670accae-cfa3-4d35-9914-9b496d2ed737",
     "showTitle": false,
     "title": ""
    }
   },
   "outputs": [
    {
     "output_type": "display_data",
     "data": {
      "text/html": [
       "<div>\n",
       "<style scoped>\n",
       "    .dataframe tbody tr th:only-of-type {\n",
       "        vertical-align: middle;\n",
       "    }\n",
       "\n",
       "    .dataframe tbody tr th {\n",
       "        vertical-align: top;\n",
       "    }\n",
       "\n",
       "    .dataframe thead th {\n",
       "        text-align: right;\n",
       "    }\n",
       "</style>\n",
       "<table border=\"1\" class=\"dataframe\">\n",
       "  <thead>\n",
       "    <tr style=\"text-align: right;\">\n",
       "      <th></th>\n",
       "      <th>tconst</th>\n",
       "      <th>titleType</th>\n",
       "      <th>primaryTitle</th>\n",
       "      <th>originalTitle</th>\n",
       "      <th>startYear</th>\n",
       "      <th>runtimeMinutes</th>\n",
       "      <th>genres</th>\n",
       "    </tr>\n",
       "  </thead>\n",
       "  <tbody>\n",
       "    <tr>\n",
       "      <th>0</th>\n",
       "      <td>tt0000001</td>\n",
       "      <td>short</td>\n",
       "      <td>Carmencita</td>\n",
       "      <td>Carmencita</td>\n",
       "      <td>1894</td>\n",
       "      <td>1</td>\n",
       "      <td>Documentary,Short</td>\n",
       "    </tr>\n",
       "  </tbody>\n",
       "</table>\n",
       "</div>"
      ]
     },
     "metadata": {
      "application/vnd.databricks.v1+output": {
       "addedWidgets": {},
       "arguments": {},
       "data": "<div>\n<style scoped>\n    .dataframe tbody tr th:only-of-type {\n        vertical-align: middle;\n    }\n\n    .dataframe tbody tr th {\n        vertical-align: top;\n    }\n\n    .dataframe thead th {\n        text-align: right;\n    }\n</style>\n<table border=\"1\" class=\"dataframe\">\n  <thead>\n    <tr style=\"text-align: right;\">\n      <th></th>\n      <th>tconst</th>\n      <th>titleType</th>\n      <th>primaryTitle</th>\n      <th>originalTitle</th>\n      <th>startYear</th>\n      <th>runtimeMinutes</th>\n      <th>genres</th>\n    </tr>\n  </thead>\n  <tbody>\n    <tr>\n      <th>0</th>\n      <td>tt0000001</td>\n      <td>short</td>\n      <td>Carmencita</td>\n      <td>Carmencita</td>\n      <td>1894</td>\n      <td>1</td>\n      <td>Documentary,Short</td>\n    </tr>\n  </tbody>\n</table>\n</div>",
       "datasetInfos": [],
       "metadata": {},
       "removedWidgets": [],
       "textData": null,
       "type": "htmlSandbox"
      }
     },
     "output_type": "display_data"
    }
   ],
   "source": [
    "# Selecionando apenas colunas necessárias de acordo com o problema definido\n",
    "\n",
    "df_tratado = df_original.copy()\n",
    "df_tratado = df_tratado[['tconst', 'titleType' ,'primaryTitle', 'originalTitle', 'startYear', 'runtimeMinutes', 'genres']]\n",
    "df_tratado.head(1)"
   ]
  },
  {
   "cell_type": "code",
   "execution_count": 0,
   "metadata": {
    "application/vnd.databricks.v1+cell": {
     "cellMetadata": {
      "byteLimit": 2048000,
      "rowLimit": 10000
     },
     "inputWidgets": {},
     "nuid": "f4f2a37f-53bc-4865-89c3-dece33059bb3",
     "showTitle": false,
     "title": ""
    }
   },
   "outputs": [],
   "source": [
    "# Analisando se o df tem linhas em branco e removendo\n",
    "\n",
    "df_tratado = df_tratado.replace('\\\\N', None)\n",
    "df_tratado = df_tratado.dropna()"
   ]
  },
  {
   "cell_type": "code",
   "execution_count": 0,
   "metadata": {
    "application/vnd.databricks.v1+cell": {
     "cellMetadata": {
      "byteLimit": 2048000,
      "rowLimit": 10000
     },
     "inputWidgets": {},
     "nuid": "a7b1ed8a-d94e-4f59-88d3-cc9aff47c4da",
     "showTitle": false,
     "title": ""
    }
   },
   "outputs": [
    {
     "output_type": "stream",
     "name": "stdout",
     "output_type": "stream",
     "text": [
      "Out[61]: 0"
     ]
    }
   ],
   "source": [
    "# Verificando se o df possui linhas duplicadas\n",
    "\n",
    "len(df_tratado[df_tratado.duplicated(keep=False)])"
   ]
  },
  {
   "cell_type": "code",
   "execution_count": 0,
   "metadata": {
    "application/vnd.databricks.v1+cell": {
     "cellMetadata": {
      "byteLimit": 2048000,
      "rowLimit": 10000
     },
     "inputWidgets": {},
     "nuid": "4cdd861b-e43e-4c8f-b444-7eb16719113d",
     "showTitle": false,
     "title": ""
    }
   },
   "outputs": [
    {
     "output_type": "stream",
     "name": "stdout",
     "output_type": "stream",
     "text": [
      "Out[62]: tconst            object\ntitleType         object\nprimaryTitle      object\noriginalTitle     object\nstartYear         object\nruntimeMinutes    object\ngenres            object\ndtype: object"
     ]
    }
   ],
   "source": [
    "# Analisando os tipos de colunas se correspondem aos dados\n",
    "df_tratado.dtypes"
   ]
  },
  {
   "cell_type": "code",
   "execution_count": 0,
   "metadata": {
    "application/vnd.databricks.v1+cell": {
     "cellMetadata": {
      "byteLimit": 2048000,
      "rowLimit": 10000
     },
     "inputWidgets": {},
     "nuid": "a1e1ec18-874a-4968-b7c7-957483da4f87",
     "showTitle": false,
     "title": ""
    }
   },
   "outputs": [],
   "source": [
    "# Ajustando tipagem de colunas numéricas\n",
    "\n",
    "df_tratado['startYear'] = df_tratado['startYear'].astype(int)\n",
    "df_tratado['runtimeMinutes'] = df_tratado['runtimeMinutes'].astype(int)"
   ]
  },
  {
   "cell_type": "code",
   "execution_count": 0,
   "metadata": {
    "application/vnd.databricks.v1+cell": {
     "cellMetadata": {
      "byteLimit": 2048000,
      "rowLimit": 10000
     },
     "inputWidgets": {},
     "nuid": "5a549c2f-9b56-4036-aca6-a54d6bc2a969",
     "showTitle": false,
     "title": ""
    }
   },
   "outputs": [
    {
     "output_type": "stream",
     "name": "stdout",
     "output_type": "stream",
     "text": [
      "Out[64]: tconst            object\ntitleType         object\nprimaryTitle      object\noriginalTitle     object\nstartYear          int64\nruntimeMinutes     int64\ngenres            object\ndtype: object"
     ]
    }
   ],
   "source": [
    "df_tratado.dtypes"
   ]
  },
  {
   "cell_type": "code",
   "execution_count": 0,
   "metadata": {
    "application/vnd.databricks.v1+cell": {
     "cellMetadata": {
      "byteLimit": 2048000,
      "rowLimit": 10000
     },
     "inputWidgets": {},
     "nuid": "6b33fa20-45ec-4a78-b406-6289fbd783bd",
     "showTitle": false,
     "title": ""
    }
   },
   "outputs": [
    {
     "output_type": "stream",
     "name": "stdout",
     "output_type": "stream",
     "text": [
      "Out[65]: Index(['tconst', 'titleType', 'primaryTitle', 'originalTitle', 'startYear',\n       'runtimeMinutes', 'genres'],\n      dtype='object')"
     ]
    }
   ],
   "source": [
    "df_tratado.columns"
   ]
  },
  {
   "cell_type": "code",
   "execution_count": 0,
   "metadata": {
    "application/vnd.databricks.v1+cell": {
     "cellMetadata": {
      "byteLimit": 2048000,
      "rowLimit": 10000
     },
     "inputWidgets": {},
     "nuid": "720b55b9-2655-410c-8b0f-ab10694df61b",
     "showTitle": false,
     "title": ""
    }
   },
   "outputs": [],
   "source": [
    "# Copiando df, para responder as perguntas postriormente, pois na próxima etapa ele será alterado para ser armazenado no banco de dados\n",
    "\n",
    "df_analise = df_tratado.copy()"
   ]
  },
  {
   "cell_type": "code",
   "execution_count": 0,
   "metadata": {
    "application/vnd.databricks.v1+cell": {
     "cellMetadata": {
      "byteLimit": 2048000,
      "rowLimit": 10000
     },
     "inputWidgets": {},
     "nuid": "fcffbe11-9ad6-49d4-828b-fb3de1b6dd0b",
     "showTitle": false,
     "title": ""
    }
   },
   "outputs": [],
   "source": [
    "# Modelando dados para o Esquema Estrela\n",
    "\n",
    "'''\n",
    "As tabelas dimensões serão criadas a partir dos valores únicos da tabela fato, e nessa tabelas fato serão criados os ids para cada item registrado\n",
    "\n",
    "'''\n",
    "\n",
    "# Criando dimensões\n",
    "\n",
    "# Dimensão titleType\n",
    "valores_unicos_ = df_tratado['titleType'].unique()\n",
    "D_titleType = pd.DataFrame(valores_unicos_, columns=['titleType'])\n",
    "D_titleType['id'] = range(len(D_titleType))\n",
    "\n",
    "\n",
    "# Dimensão primaryTitle\n",
    "valores_unicos_ = df_tratado['primaryTitle'].unique()\n",
    "D_primaryTitle = pd.DataFrame(valores_unicos_, columns=['primaryTitle'])\n",
    "D_primaryTitle['id'] = range(len(D_primaryTitle))\n",
    "\n",
    "# Dimensão originalTitle\n",
    "valores_unicos_ = df_tratado['originalTitle'].unique()\n",
    "D_originalTitle = pd.DataFrame(valores_unicos_, columns=['originalTitle'])\n",
    "D_originalTitle['id'] = range(len(D_originalTitle))\n",
    "\n",
    "# Dimensão startYear\n",
    "valores_unicos_ = df_tratado['startYear'].unique()\n",
    "D_startYear = pd.DataFrame(valores_unicos_, columns=['startYear'])\n",
    "D_startYear['id'] = range(len(D_startYear))\n",
    "\n",
    "# Dimensão runtimeMinutes\n",
    "valores_unicos_ = df_tratado['runtimeMinutes'].unique()\n",
    "D_runtimeMinutes = pd.DataFrame(valores_unicos_, columns=['runtimeMinutes'])\n",
    "D_runtimeMinutes['id'] = range(len(D_runtimeMinutes))\n",
    "\n",
    "# Dimensão genres\n",
    "valores_unicos_ = df_tratado['genres'].unique()\n",
    "D_genres = pd.DataFrame(valores_unicos_, columns=['genres'])\n",
    "D_genres['id'] = range(len(D_genres))"
   ]
  },
  {
   "cell_type": "code",
   "execution_count": 0,
   "metadata": {
    "application/vnd.databricks.v1+cell": {
     "cellMetadata": {
      "byteLimit": 2048000,
      "rowLimit": 10000
     },
     "inputWidgets": {},
     "nuid": "cfac63dd-67ab-43e0-807a-586696dc2fbc",
     "showTitle": false,
     "title": ""
    }
   },
   "outputs": [],
   "source": [
    "# Gerando a tabela fato com as transformações a partir das dimensões\n",
    "\n",
    "'''\n",
    "Após as dimensões terem sido criadas, a tabela fato será alterada, para conter apenas os ids, assim reduzir o armazenamento de muitos caracteres para ids\n",
    "\n",
    "'''\n",
    "\n",
    "# Tratando titleType\n",
    "mapeamento_titleType = D_titleType.set_index('titleType')['id'].to_dict()\n",
    "df_tratado['titleType'] = df_tratado['titleType'].map(mapeamento_titleType)\n",
    "\n",
    "# Tratando primaryTitle\n",
    "mapeamento_primaryTitle = D_primaryTitle.set_index('primaryTitle')['id'].to_dict()\n",
    "df_tratado['primaryTitle'] = df_tratado['primaryTitle'].map(mapeamento_primaryTitle)\n",
    "\n",
    "# Tratando originalTitle\n",
    "mapeamento_originalTitle = D_originalTitle.set_index('originalTitle')['id'].to_dict()\n",
    "df_tratado['originalTitle'] = df_tratado['originalTitle'].map(mapeamento_originalTitle)\n",
    "\n",
    "# Tratando startYear\n",
    "mapeamento_startYear = D_startYear.set_index('startYear')['id'].to_dict()\n",
    "df_tratado['startYear'] = df_tratado['startYear'].map(mapeamento_startYear)\n",
    "\n",
    "# Tratando runtimeMinutes\n",
    "mapeamento_runtimeMinutes = D_runtimeMinutes.set_index('runtimeMinutes')['id'].to_dict()\n",
    "df_tratado['runtimeMinutes'] = df_tratado['runtimeMinutes'].map(mapeamento_runtimeMinutes)\n",
    "\n",
    "# Tratando genres\n",
    "mapeamento_genres = D_genres.set_index('genres')['id'].to_dict()\n",
    "df_tratado['genres'] = df_tratado['genres'].map(mapeamento_genres)"
   ]
  },
  {
   "cell_type": "code",
   "execution_count": 0,
   "metadata": {
    "application/vnd.databricks.v1+cell": {
     "cellMetadata": {
      "byteLimit": 2048000,
      "rowLimit": 10000
     },
     "inputWidgets": {},
     "nuid": "862424c0-53d0-4631-a7f9-9fba353a16a3",
     "showTitle": false,
     "title": ""
    }
   },
   "outputs": [
    {
     "output_type": "display_data",
     "data": {
      "text/html": [
       "<div>\n",
       "<style scoped>\n",
       "    .dataframe tbody tr th:only-of-type {\n",
       "        vertical-align: middle;\n",
       "    }\n",
       "\n",
       "    .dataframe tbody tr th {\n",
       "        vertical-align: top;\n",
       "    }\n",
       "\n",
       "    .dataframe thead th {\n",
       "        text-align: right;\n",
       "    }\n",
       "</style>\n",
       "<table border=\"1\" class=\"dataframe\">\n",
       "  <thead>\n",
       "    <tr style=\"text-align: right;\">\n",
       "      <th></th>\n",
       "      <th>tconst</th>\n",
       "      <th>titleType</th>\n",
       "      <th>primaryTitle</th>\n",
       "      <th>originalTitle</th>\n",
       "      <th>startYear</th>\n",
       "      <th>runtimeMinutes</th>\n",
       "      <th>genres</th>\n",
       "    </tr>\n",
       "  </thead>\n",
       "  <tbody>\n",
       "    <tr>\n",
       "      <th>0</th>\n",
       "      <td>tt0000001</td>\n",
       "      <td>0</td>\n",
       "      <td>0</td>\n",
       "      <td>0</td>\n",
       "      <td>0</td>\n",
       "      <td>0</td>\n",
       "      <td>0</td>\n",
       "    </tr>\n",
       "    <tr>\n",
       "      <th>1</th>\n",
       "      <td>tt0000002</td>\n",
       "      <td>0</td>\n",
       "      <td>1</td>\n",
       "      <td>1</td>\n",
       "      <td>1</td>\n",
       "      <td>1</td>\n",
       "      <td>1</td>\n",
       "    </tr>\n",
       "    <tr>\n",
       "      <th>2</th>\n",
       "      <td>tt0000003</td>\n",
       "      <td>0</td>\n",
       "      <td>2</td>\n",
       "      <td>2</td>\n",
       "      <td>1</td>\n",
       "      <td>1</td>\n",
       "      <td>2</td>\n",
       "    </tr>\n",
       "    <tr>\n",
       "      <th>3</th>\n",
       "      <td>tt0000004</td>\n",
       "      <td>0</td>\n",
       "      <td>3</td>\n",
       "      <td>3</td>\n",
       "      <td>1</td>\n",
       "      <td>2</td>\n",
       "      <td>1</td>\n",
       "    </tr>\n",
       "    <tr>\n",
       "      <th>4</th>\n",
       "      <td>tt0000005</td>\n",
       "      <td>0</td>\n",
       "      <td>4</td>\n",
       "      <td>4</td>\n",
       "      <td>2</td>\n",
       "      <td>0</td>\n",
       "      <td>3</td>\n",
       "    </tr>\n",
       "  </tbody>\n",
       "</table>\n",
       "</div>"
      ]
     },
     "metadata": {
      "application/vnd.databricks.v1+output": {
       "addedWidgets": {},
       "arguments": {},
       "data": "<div>\n<style scoped>\n    .dataframe tbody tr th:only-of-type {\n        vertical-align: middle;\n    }\n\n    .dataframe tbody tr th {\n        vertical-align: top;\n    }\n\n    .dataframe thead th {\n        text-align: right;\n    }\n</style>\n<table border=\"1\" class=\"dataframe\">\n  <thead>\n    <tr style=\"text-align: right;\">\n      <th></th>\n      <th>tconst</th>\n      <th>titleType</th>\n      <th>primaryTitle</th>\n      <th>originalTitle</th>\n      <th>startYear</th>\n      <th>runtimeMinutes</th>\n      <th>genres</th>\n    </tr>\n  </thead>\n  <tbody>\n    <tr>\n      <th>0</th>\n      <td>tt0000001</td>\n      <td>0</td>\n      <td>0</td>\n      <td>0</td>\n      <td>0</td>\n      <td>0</td>\n      <td>0</td>\n    </tr>\n    <tr>\n      <th>1</th>\n      <td>tt0000002</td>\n      <td>0</td>\n      <td>1</td>\n      <td>1</td>\n      <td>1</td>\n      <td>1</td>\n      <td>1</td>\n    </tr>\n    <tr>\n      <th>2</th>\n      <td>tt0000003</td>\n      <td>0</td>\n      <td>2</td>\n      <td>2</td>\n      <td>1</td>\n      <td>1</td>\n      <td>2</td>\n    </tr>\n    <tr>\n      <th>3</th>\n      <td>tt0000004</td>\n      <td>0</td>\n      <td>3</td>\n      <td>3</td>\n      <td>1</td>\n      <td>2</td>\n      <td>1</td>\n    </tr>\n    <tr>\n      <th>4</th>\n      <td>tt0000005</td>\n      <td>0</td>\n      <td>4</td>\n      <td>4</td>\n      <td>2</td>\n      <td>0</td>\n      <td>3</td>\n    </tr>\n  </tbody>\n</table>\n</div>",
       "datasetInfos": [],
       "metadata": {},
       "removedWidgets": [],
       "textData": null,
       "type": "htmlSandbox"
      }
     },
     "output_type": "display_data"
    }
   ],
   "source": [
    "df_tratado.head(5)"
   ]
  },
  {
   "cell_type": "markdown",
   "metadata": {
    "application/vnd.databricks.v1+cell": {
     "cellMetadata": {
      "byteLimit": 2048000,
      "rowLimit": 10000
     },
     "inputWidgets": {},
     "nuid": "6c8d1131-a4bb-4d05-b415-1f2988dff02d",
     "showTitle": false,
     "title": ""
    }
   },
   "source": [
    "Catálogo de Dados"
   ]
  },
  {
   "cell_type": "markdown",
   "metadata": {
    "application/vnd.databricks.v1+cell": {
     "cellMetadata": {
      "byteLimit": 2048000,
      "rowLimit": 10000
     },
     "inputWidgets": {},
     "nuid": "89049c9f-b455-4e7e-b6f2-5bfb1540af05",
     "showTitle": false,
     "title": ""
    }
   },
   "source": [
    "\n",
    "**default.d_titletype**\n",
    "\n",
    "| Column Name | Type   | Comment                            |\n",
    "|-------------|--------|------------------------------------|\n",
    "| d_titletype | string | Contém os tipos de títulos únicos  |\n",
    "| id          | int    | IDs únicos para cada tipo de título|\n",
    "\n",
    "\n",
    "**default.D_primaryTitle**\n",
    "\n",
    "| Column Name    | Type   | Comment                               |\n",
    "|----------------|--------|---------------------------------------|\n",
    "| D_primaryTitle | string | Contém os títulos primário únicos      |\n",
    "| id             | int    | IDs únicos para cada título primário   |\n",
    "\n",
    "\n",
    "**default.D_originalTitle**\n",
    "\n",
    "| Column Name     | Type   | Comment                               |\n",
    "|-----------------|--------|---------------------------------------|\n",
    "| D_originalTitle | string | Contém os títulos originais únicos     |\n",
    "| id              | int    | IDs únicos para cada título original  |\n",
    "\n",
    "\n",
    "**default.D_startYear**\n",
    "\n",
    "| Column Name | Type   | Comment                               |\n",
    "|-------------|--------|---------------------------------------|\n",
    "| D_startYear | string | Contém os anos iniciais únicos         |\n",
    "| id          | int    | IDs únicos para cada ano inicial       |\n",
    "\n",
    "\n",
    "**default.D_runtimeMinutes**\n",
    "\n",
    "| Column Name       | Type   | Comment                                           |\n",
    "|-------------------|--------|---------------------------------------------------|\n",
    "| D_runtimeMinutes  | string | Contém os tempos de execução em minutos únicos    |\n",
    "| id                | int    | IDs únicos para cada tempo de execução em minuto  |\n",
    "\n",
    "\n",
    "**default.D_genres**\n",
    "\n",
    "| Column Name | Type   | Comment                        |\n",
    "|-------------|--------|--------------------------------|\n",
    "| D_genres    | string | Contém os gêneros únicos       |\n",
    "| id          | int    | IDs únicos para cada gênero    |\n",
    "\n",
    "\n",
    "\n",
    "**default.F_title_basics**\n",
    "\n",
    "| Column Name    | Type   | Comment                                     |\n",
    "|----------------|--------|---------------------------------------------|\n",
    "| tconst         | string | Identificador único de título na tabela fato |\n",
    "| titleType      | string | Tipo de título                               |\n",
    "| primaryTitle   | string | Título principal do filme                     |\n",
    "| originalTitle  | string | Título original do filme                     |\n",
    "| startYear      | int    | Ano de início                                |\n",
    "| runtimeMinutes | int    | Duração do filme em minutos                  |\n",
    "| genres         | string | Gêneros do filme                             |\n"
   ]
  },
  {
   "cell_type": "markdown",
   "metadata": {
    "application/vnd.databricks.v1+cell": {
     "cellMetadata": {
      "byteLimit": 2048000,
      "rowLimit": 10000
     },
     "inputWidgets": {},
     "nuid": "f1c4d8f3-fe3d-4dec-9568-8cc711b449d2",
     "showTitle": false,
     "title": ""
    }
   },
   "source": [
    "Carga de Dados"
   ]
  },
  {
   "cell_type": "code",
   "execution_count": 0,
   "metadata": {
    "application/vnd.databricks.v1+cell": {
     "cellMetadata": {
      "byteLimit": 2048000,
      "rowLimit": 10000
     },
     "inputWidgets": {},
     "nuid": "25c73b2a-add4-4507-8b34-0b6496828e52",
     "showTitle": false,
     "title": ""
    }
   },
   "outputs": [],
   "source": [
    "# Criando Tabelas no banco\n",
    "\n",
    "# Dimensões\n",
    "spark.createDataFrame(D_titleType).write.mode('overwrite').saveAsTable('D_titleType')\n",
    "spark.createDataFrame(D_primaryTitle).write.mode('overwrite').saveAsTable('D_primaryTitle')\n",
    "spark.createDataFrame(D_originalTitle).write.mode('overwrite').saveAsTable('D_originalTitle')\n",
    "spark.createDataFrame(D_startYear).write.mode('overwrite').saveAsTable('D_startYear')\n",
    "spark.createDataFrame(D_runtimeMinutes).write.mode('overwrite').saveAsTable('D_runtimeMinutes')\n",
    "spark.createDataFrame(D_genres).write.mode('overwrite').saveAsTable('D_genres')\n",
    "\n",
    "# Fato\n",
    "spark.createDataFrame(df_tratado).write.mode('overwrite').saveAsTable('F_title_basics')"
   ]
  },
  {
   "cell_type": "markdown",
   "metadata": {
    "application/vnd.databricks.v1+cell": {
     "cellMetadata": {
      "byteLimit": 2048000,
      "rowLimit": 10000
     },
     "inputWidgets": {},
     "nuid": "839a1dbe-100f-4a93-bc66-5cb2a74b83d0",
     "showTitle": false,
     "title": ""
    }
   },
   "source": [
    "Análise"
   ]
  },
  {
   "cell_type": "code",
   "execution_count": 0,
   "metadata": {
    "application/vnd.databricks.v1+cell": {
     "cellMetadata": {
      "byteLimit": 2048000,
      "rowLimit": 10000
     },
     "inputWidgets": {},
     "nuid": "c735f95d-a363-448b-9fe8-58273bd92490",
     "showTitle": false,
     "title": ""
    }
   },
   "outputs": [
    {
     "output_type": "display_data",
     "data": {
      "text/html": [
       "<div>\n",
       "<style scoped>\n",
       "    .dataframe tbody tr th:only-of-type {\n",
       "        vertical-align: middle;\n",
       "    }\n",
       "\n",
       "    .dataframe tbody tr th {\n",
       "        vertical-align: top;\n",
       "    }\n",
       "\n",
       "    .dataframe thead th {\n",
       "        text-align: right;\n",
       "    }\n",
       "</style>\n",
       "<table border=\"1\" class=\"dataframe\">\n",
       "  <thead>\n",
       "    <tr style=\"text-align: right;\">\n",
       "      <th></th>\n",
       "      <th>startYear</th>\n",
       "      <th>runtimeMinutes</th>\n",
       "    </tr>\n",
       "  </thead>\n",
       "  <tbody>\n",
       "    <tr>\n",
       "      <th>count</th>\n",
       "      <td>3.090023e+06</td>\n",
       "      <td>3.090023e+06</td>\n",
       "    </tr>\n",
       "    <tr>\n",
       "      <th>mean</th>\n",
       "      <td>2.003559e+03</td>\n",
       "      <td>4.348341e+01</td>\n",
       "    </tr>\n",
       "    <tr>\n",
       "      <th>std</th>\n",
       "      <td>2.029732e+01</td>\n",
       "      <td>7.447983e+01</td>\n",
       "    </tr>\n",
       "    <tr>\n",
       "      <th>min</th>\n",
       "      <td>1.874000e+03</td>\n",
       "      <td>0.000000e+00</td>\n",
       "    </tr>\n",
       "    <tr>\n",
       "      <th>25%</th>\n",
       "      <td>1.997000e+03</td>\n",
       "      <td>1.800000e+01</td>\n",
       "    </tr>\n",
       "    <tr>\n",
       "      <th>50%</th>\n",
       "      <td>2.011000e+03</td>\n",
       "      <td>3.000000e+01</td>\n",
       "    </tr>\n",
       "    <tr>\n",
       "      <th>75%</th>\n",
       "      <td>2.017000e+03</td>\n",
       "      <td>6.000000e+01</td>\n",
       "    </tr>\n",
       "    <tr>\n",
       "      <th>max</th>\n",
       "      <td>2.030000e+03</td>\n",
       "      <td>5.946000e+04</td>\n",
       "    </tr>\n",
       "  </tbody>\n",
       "</table>\n",
       "</div>"
      ]
     },
     "metadata": {
      "application/vnd.databricks.v1+output": {
       "addedWidgets": {},
       "arguments": {},
       "data": "<div>\n<style scoped>\n    .dataframe tbody tr th:only-of-type {\n        vertical-align: middle;\n    }\n\n    .dataframe tbody tr th {\n        vertical-align: top;\n    }\n\n    .dataframe thead th {\n        text-align: right;\n    }\n</style>\n<table border=\"1\" class=\"dataframe\">\n  <thead>\n    <tr style=\"text-align: right;\">\n      <th></th>\n      <th>startYear</th>\n      <th>runtimeMinutes</th>\n    </tr>\n  </thead>\n  <tbody>\n    <tr>\n      <th>count</th>\n      <td>3.090023e+06</td>\n      <td>3.090023e+06</td>\n    </tr>\n    <tr>\n      <th>mean</th>\n      <td>2.003559e+03</td>\n      <td>4.348341e+01</td>\n    </tr>\n    <tr>\n      <th>std</th>\n      <td>2.029732e+01</td>\n      <td>7.447983e+01</td>\n    </tr>\n    <tr>\n      <th>min</th>\n      <td>1.874000e+03</td>\n      <td>0.000000e+00</td>\n    </tr>\n    <tr>\n      <th>25%</th>\n      <td>1.997000e+03</td>\n      <td>1.800000e+01</td>\n    </tr>\n    <tr>\n      <th>50%</th>\n      <td>2.011000e+03</td>\n      <td>3.000000e+01</td>\n    </tr>\n    <tr>\n      <th>75%</th>\n      <td>2.017000e+03</td>\n      <td>6.000000e+01</td>\n    </tr>\n    <tr>\n      <th>max</th>\n      <td>2.030000e+03</td>\n      <td>5.946000e+04</td>\n    </tr>\n  </tbody>\n</table>\n</div>",
       "datasetInfos": [],
       "metadata": {},
       "removedWidgets": [],
       "textData": null,
       "type": "htmlSandbox"
      }
     },
     "output_type": "display_data"
    }
   ],
   "source": [
    "# Qualidade dos dados:\n",
    "\n",
    "# Gerando métricas para colunas numéricas\n",
    "df_analise.describe()"
   ]
  },
  {
   "cell_type": "code",
   "execution_count": 0,
   "metadata": {
    "application/vnd.databricks.v1+cell": {
     "cellMetadata": {
      "byteLimit": 2048000,
      "rowLimit": 10000
     },
     "inputWidgets": {},
     "nuid": "73648e71-019e-4085-ba9b-3b32778fc3d2",
     "showTitle": false,
     "title": ""
    }
   },
   "outputs": [
    {
     "output_type": "stream",
     "name": "stdout",
     "output_type": "stream",
     "text": [
      "Out[72]: ['movie',\n 'short',\n 'tvEpisode',\n 'tvMiniSeries',\n 'tvMovie',\n 'tvSeries',\n 'tvShort',\n 'tvSpecial',\n 'video',\n 'videoGame']"
     ]
    }
   ],
   "source": [
    "# Analisando colunas categóricas\n",
    "sorted(df_analise['titleType'].unique())\n",
    "\n",
    "# nenhum valor em branco"
   ]
  },
  {
   "cell_type": "code",
   "execution_count": 0,
   "metadata": {
    "application/vnd.databricks.v1+cell": {
     "cellMetadata": {},
     "inputWidgets": {},
     "nuid": "54ada9e6-3581-457e-ab05-bce2402a0b77",
     "showTitle": false,
     "title": ""
    }
   },
   "outputs": [],
   "source": [
    "# Analisando colunas categóricas\n",
    "for i in sorted(df_analise['primaryTitle'].unique()):\n",
    "    print(i)\n",
    "    \n",
    "# nenhum valor em branco"
   ]
  },
  {
   "cell_type": "code",
   "execution_count": 0,
   "metadata": {
    "application/vnd.databricks.v1+cell": {
     "cellMetadata": {
      "byteLimit": 2048000,
      "rowLimit": 10000
     },
     "inputWidgets": {},
     "nuid": "89d62497-94e0-4ee3-99fe-02b728db546f",
     "showTitle": false,
     "title": ""
    }
   },
   "outputs": [],
   "source": [
    "# Analisando colunas categóricas\n",
    "for i in sorted(df_analise['originalTitle'].unique()):\n",
    "    print(i)\n",
    "\n",
    "# nenhum valor em branco"
   ]
  },
  {
   "cell_type": "code",
   "execution_count": 0,
   "metadata": {
    "application/vnd.databricks.v1+cell": {
     "cellMetadata": {
      "byteLimit": 2048000,
      "rowLimit": 10000
     },
     "inputWidgets": {},
     "nuid": "a2614f91-d70d-4a89-8d08-b446135418ff",
     "showTitle": false,
     "title": ""
    }
   },
   "outputs": [],
   "source": [
    "# Analisando colunas categóricas\n",
    "for i in sorted(df_analise['genres'].unique()):\n",
    "    print(i)\n",
    "\n",
    "# nenhum valor em branco"
   ]
  },
  {
   "cell_type": "code",
   "execution_count": 0,
   "metadata": {
    "application/vnd.databricks.v1+cell": {
     "cellMetadata": {
      "byteLimit": 2048000,
      "rowLimit": 10000
     },
     "inputWidgets": {},
     "nuid": "7a14191a-753d-4f07-a8df-548551882e61",
     "showTitle": false,
     "title": ""
    }
   },
   "outputs": [
    {
     "output_type": "display_data",
     "data": {
      "image/png": "[encoded data removed]"
     },
     "metadata": {
      "application/vnd.databricks.v1+output": {
       "addedWidgets": {},
       "arguments": {},
       "data": "data:image/png;base64,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\n",
       "datasetInfos": [],
       "metadata": {},
       "removedWidgets": [],
       "type": "image"
      }
     },
     "output_type": "display_data"
    }
   ],
   "source": [
    "# Respondendo Perguntas\n",
    "#  1 - Quantidade de títulos startYear a startYear a partir de 2015, e sua evolução anual em percentual.\n",
    "\n",
    "# Filtra os startYear entre 2015 e 2024 (inclusive)\n",
    "df_filtrado = df_analise[(df_analise['startYear'] > 2015) & (df_analise['startYear'] <= 2024)]\n",
    "\n",
    "# Conta a quantidade de títulos por startYear\n",
    "quantidade_por_startYear = df_filtrado['startYear'].value_counts().sort_index()\n",
    "\n",
    "# Calcula a evolução percentual em relação ao startYear anterior\n",
    "evolucao_percentual = quantidade_por_startYear.pct_change() * 100\n",
    "\n",
    "# Cria o gráfico de barras e linhas combinadas\n",
    "fig, ax1 = plt.subplots(figsize=(10, 6))\n",
    "\n",
    "# Barras para a quantidade por startYear\n",
    "bars = ax1.bar(quantidade_por_startYear.index, quantidade_por_startYear.values, color='b', alpha=0.6, label='Quantidade')\n",
    "ax1.set_xlabel('startYear')\n",
    "ax1.set_ylabel('Quantidade', color='b')\n",
    "ax1.tick_params(axis='y', labelcolor='b')\n",
    "\n",
    "# Adiciona rótulos com a quantidade nas barras\n",
    "for bar in bars:\n",
    "    yval = bar.get_height()\n",
    "    ax1.text(bar.get_x() + bar.get_width()/2, yval, int(yval), ha='center', va='bottom', color='black', fontsize=10)\n",
    "\n",
    "# Linhas para a evolução percentual\n",
    "ax2 = ax1.twinx()\n",
    "ax2.plot(quantidade_por_startYear.index, evolucao_percentual.values, marker='s', linestyle='--', color='r', label='Evolução %')\n",
    "ax2.set_ylabel('Evolução %', color='r')\n",
    "ax2.tick_params(axis='y', labelcolor='r')\n",
    "\n",
    "# Título e legenda\n",
    "plt.title('Quantidade por startYear e Evolução % Anual')\n",
    "fig.legend(loc='upper right')\n",
    "\n",
    "plt.grid(True)\n",
    "plt.tight_layout()\n",
    "plt.show()"
   ]
  },
  {
   "cell_type": "code",
   "execution_count": 0,
   "metadata": {
    "application/vnd.databricks.v1+cell": {
     "cellMetadata": {
      "byteLimit": 2048000,
      "rowLimit": 10000
     },
     "inputWidgets": {},
     "nuid": "784e68b3-5140-4d5b-a5dd-4ef9a965b8c8",
     "showTitle": false,
     "title": ""
    }
   },
   "outputs": [
    {
     "output_type": "display_data",
     "data": {
      "text/html": [
       "<div>\n",
       "<style scoped>\n",
       "    .dataframe tbody tr th:only-of-type {\n",
       "        vertical-align: middle;\n",
       "    }\n",
       "\n",
       "    .dataframe tbody tr th {\n",
       "        vertical-align: top;\n",
       "    }\n",
       "\n",
       "    .dataframe thead th {\n",
       "        text-align: right;\n",
       "    }\n",
       "</style>\n",
       "<table border=\"1\" class=\"dataframe\">\n",
       "  <thead>\n",
       "    <tr style=\"text-align: right;\">\n",
       "      <th></th>\n",
       "      <th>Genre</th>\n",
       "      <th>Count</th>\n",
       "      <th>Percent</th>\n",
       "    </tr>\n",
       "  </thead>\n",
       "  <tbody>\n",
       "    <tr>\n",
       "      <th>0</th>\n",
       "      <td>Documentary</td>\n",
       "      <td>8574</td>\n",
       "      <td>9.090524</td>\n",
       "    </tr>\n",
       "    <tr>\n",
       "      <th>1</th>\n",
       "      <td>Drama</td>\n",
       "      <td>6069</td>\n",
       "      <td>6.434615</td>\n",
       "    </tr>\n",
       "    <tr>\n",
       "      <th>2</th>\n",
       "      <td>Drama,Short</td>\n",
       "      <td>5574</td>\n",
       "      <td>5.909795</td>\n",
       "    </tr>\n",
       "    <tr>\n",
       "      <th>3</th>\n",
       "      <td>Comedy</td>\n",
       "      <td>4538</td>\n",
       "      <td>4.811383</td>\n",
       "    </tr>\n",
       "    <tr>\n",
       "      <th>4</th>\n",
       "      <td>Talk-Show</td>\n",
       "      <td>3972</td>\n",
       "      <td>4.211285</td>\n",
       "    </tr>\n",
       "    <tr>\n",
       "      <th>...</th>\n",
       "      <td>...</td>\n",
       "      <td>...</td>\n",
       "      <td>...</td>\n",
       "    </tr>\n",
       "    <tr>\n",
       "      <th>959</th>\n",
       "      <td>Adult,Romance,Sci-Fi</td>\n",
       "      <td>1</td>\n",
       "      <td>0.001060</td>\n",
       "    </tr>\n",
       "    <tr>\n",
       "      <th>960</th>\n",
       "      <td>Adult,Comedy,Crime</td>\n",
       "      <td>1</td>\n",
       "      <td>0.001060</td>\n",
       "    </tr>\n",
       "    <tr>\n",
       "      <th>961</th>\n",
       "      <td>Animation,Crime,Documentary</td>\n",
       "      <td>1</td>\n",
       "      <td>0.001060</td>\n",
       "    </tr>\n",
       "    <tr>\n",
       "      <th>962</th>\n",
       "      <td>Family,Reality-TV,Talk-Show</td>\n",
       "      <td>1</td>\n",
       "      <td>0.001060</td>\n",
       "    </tr>\n",
       "    <tr>\n",
       "      <th>963</th>\n",
       "      <td>Crime,Mystery,Romance</td>\n",
       "      <td>1</td>\n",
       "      <td>0.001060</td>\n",
       "    </tr>\n",
       "  </tbody>\n",
       "</table>\n",
       "<p>964 rows × 3 columns</p>\n",
       "</div>"
      ]
     },
     "metadata": {
      "application/vnd.databricks.v1+output": {
       "addedWidgets": {},
       "arguments": {},
       "data": "<div>\n<style scoped>\n    .dataframe tbody tr th:only-of-type {\n        vertical-align: middle;\n    }\n\n    .dataframe tbody tr th {\n        vertical-align: top;\n    }\n\n    .dataframe thead th {\n        text-align: right;\n    }\n</style>\n<table border=\"1\" class=\"dataframe\">\n  <thead>\n    <tr style=\"text-align: right;\">\n      <th></th>\n      <th>Genre</th>\n      <th>Count</th>\n      <th>Percent</th>\n    </tr>\n  </thead>\n  <tbody>\n    <tr>\n      <th>0</th>\n      <td>Documentary</td>\n      <td>8574</td>\n      <td>9.090524</td>\n    </tr>\n    <tr>\n      <th>1</th>\n      <td>Drama</td>\n      <td>6069</td>\n      <td>6.434615</td>\n    </tr>\n    <tr>\n      <th>2</th>\n      <td>Drama,Short</td>\n      <td>5574</td>\n      <td>5.909795</td>\n    </tr>\n    <tr>\n      <th>3</th>\n      <td>Comedy</td>\n      <td>4538</td>\n      <td>4.811383</td>\n    </tr>\n    <tr>\n      <th>4</th>\n      <td>Talk-Show</td>\n      <td>3972</td>\n      <td>4.211285</td>\n    </tr>\n    <tr>\n      <th>...</th>\n      <td>...</td>\n      <td>...</td>\n      <td>...</td>\n    </tr>\n    <tr>\n      <th>959</th>\n      <td>Adult,Romance,Sci-Fi</td>\n      <td>1</td>\n      <td>0.001060</td>\n    </tr>\n    <tr>\n      <th>960</th>\n      <td>Adult,Comedy,Crime</td>\n      <td>1</td>\n      <td>0.001060</td>\n    </tr>\n    <tr>\n      <th>961</th>\n      <td>Animation,Crime,Documentary</td>\n      <td>1</td>\n      <td>0.001060</td>\n    </tr>\n    <tr>\n      <th>962</th>\n      <td>Family,Reality-TV,Talk-Show</td>\n      <td>1</td>\n      <td>0.001060</td>\n    </tr>\n    <tr>\n      <th>963</th>\n      <td>Crime,Mystery,Romance</td>\n      <td>1</td>\n      <td>0.001060</td>\n    </tr>\n  </tbody>\n</table>\n<p>964 rows × 3 columns</p>\n</div>",
       "datasetInfos": [],
       "metadata": {},
       "removedWidgets": [],
       "textData": null,
       "type": "htmlSandbox"
      }
     },
     "output_type": "display_data"
    }
   ],
   "source": [
    "# 2 - Qual gênero teve maior quantidade em 2023?\n",
    "\n",
    "# Filtra os gêneros para o ano de 2023\n",
    "df_filtrado_2 = df_analise[df_analise['startYear'] == 2023]\n",
    "\n",
    "# Contagem da quantidade de gêneros\n",
    "quantidade_por_genero = df_filtrado_2['genres'].str.split(', ').explode().value_counts().reset_index()\n",
    "\n",
    "# Renomeando as colunas do DataFrame\n",
    "quantidade_por_genero.columns = ['Genre', 'Count']\n",
    "\n",
    "# Calculando o percentual em relação ao total\n",
    "total = quantidade_por_genero['Count'].sum()\n",
    "quantidade_por_genero['Percent'] = (quantidade_por_genero['Count'] / total) * 100\n",
    "\n",
    "# Exibindo o DataFrame com a quantidade de gêneros por ordem decrescente e percentual\n",
    "quantidade_por_genero"
   ]
  },
  {
   "cell_type": "code",
   "execution_count": 0,
   "metadata": {
    "application/vnd.databricks.v1+cell": {
     "cellMetadata": {
      "byteLimit": 2048000,
      "rowLimit": 10000
     },
     "inputWidgets": {},
     "nuid": "9d8a4864-7c3d-49c0-ba23-6f7750a740d2",
     "showTitle": false,
     "title": ""
    }
   },
   "outputs": [
    {
     "output_type": "display_data",
     "data": {
      "image/png": "[encoded data removed]"
     },
     "metadata": {
      "application/vnd.databricks.v1+output": {
       "addedWidgets": {},
       "arguments": {},
       "data": "data:image/png;base64,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\n",
       "datasetInfos": [],
       "metadata": {},
       "removedWidgets": [],
       "type": "image"
      }
     },
     "output_type": "display_data"
    }
   ],
   "source": [
    "# 3 - Em relação a 2022, esse gênero aumentou a quantidade de filmes ou diminuiu? Resultado em quantidade e percentual.\n",
    "\n",
    "# Filtra os startYear entre 2015 e 2024 (inclusive)\n",
    "df_filtrado = df_analise[(df_analise['startYear'] > 2015) & (df_analise['startYear'] <= 2024)]\n",
    "df_filtrado = df_filtrado[df_filtrado['genres'] == 'Documentary']\n",
    "\n",
    "# Conta a quantidade de títulos por startYear\n",
    "quantidade_por_startYear = df_filtrado['startYear'].value_counts().sort_index()\n",
    "\n",
    "# Calcula a evolução percentual em relação ao startYear anterior\n",
    "evolucao_percentual = quantidade_por_startYear.pct_change() * 100\n",
    "\n",
    "# Cria o gráfico de barras e linhas combinadas\n",
    "fig, ax1 = plt.subplots(figsize=(10, 6))\n",
    "\n",
    "# Barras para a quantidade por startYear\n",
    "bars = ax1.bar(quantidade_por_startYear.index, quantidade_por_startYear.values, color='b', alpha=0.6, label='Quantidade')\n",
    "ax1.set_xlabel('startYear')\n",
    "ax1.set_ylabel('Quantidade', color='b')\n",
    "ax1.tick_params(axis='y', labelcolor='b')\n",
    "\n",
    "# Adiciona rótulos com a quantidade nas barras\n",
    "for bar in bars:\n",
    "    yval = bar.get_height()\n",
    "    ax1.text(bar.get_x() + bar.get_width()/2, yval, int(yval), ha='center', va='bottom', color='black', fontsize=10)\n",
    "\n",
    "# Linhas para a evolução percentual\n",
    "ax2 = ax1.twinx()\n",
    "ax2.plot(quantidade_por_startYear.index, evolucao_percentual.values, marker='s', linestyle='--', color='r', label='Evolução %')\n",
    "ax2.set_ylabel('Evolução %', color='r')\n",
    "ax2.tick_params(axis='y', labelcolor='r')\n",
    "\n",
    "# Título e legenda\n",
    "plt.title('Quantidade por startYear e Evolução % Anual')\n",
    "fig.legend(loc='upper right')\n",
    "\n",
    "plt.grid(True)\n",
    "plt.tight_layout()\n",
    "plt.show()"
   ]
  },
  {
   "cell_type": "markdown",
   "metadata": {
    "application/vnd.databricks.v1+cell": {
     "cellMetadata": {},
     "inputWidgets": {},
     "nuid": "5519c731-4286-4f4c-83f5-2e8321c2fe2f",
     "showTitle": false,
     "title": ""
    }
   },
   "source": [
    "Análise Geral"
   ]
  },
  {
   "cell_type": "code",
   "execution_count": 0,
   "metadata": {
    "application/vnd.databricks.v1+cell": {
     "cellMetadata": {},
     "inputWidgets": {},
     "nuid": "3687e4c7-e6d6-4b5d-b2ec-af53413e6c82",
     "showTitle": false,
     "title": ""
    }
   },
   "outputs": [],
   "source": [
    "'''\n",
    "\n",
    "Foi utilizado o script para acessar o site do IMDB e baixar a base com os dados, em seguida foi feita a tratativa de remover linhas com dados nulos, para que não atrapalhasse análises posteriores, com base no objetivo. Em seguida foram criadas as tabelas dimensões e a tabela fato, através da modelagem dos dados, otimizando o máximo possível para economizar memória, mantendo a organização dos dados nas tabelas\n",
    "\n",
    "Em seguida analisando os dados históricos, foi idenficado que tivemos uma redução de forma geral na quantidade de títulos ao longo dos anos, e no ano de 2023 o gênero que mais teve publicações foi \"Documentary\" com 8.574 (9%) da base e assim como o resultado geral, esse gênero também teve redução na sua evolução mensal ao longo dos anos a partir de 2022.\n",
    "\n",
    "'''"
   ]
  }
 ],
 "metadata": {
  "application/vnd.databricks.v1+notebook": {
   "dashboards": [],
   "environmentMetadata": null,
   "language": "python",
   "notebookMetadata": {
    "pythonIndentUnit": 4
   },
   "notebookName": "MVP_Engenharia_de_Dados",
   "widgets": {}
  }
 },
 "nbformat": 4,
 "nbformat_minor": 0
}
